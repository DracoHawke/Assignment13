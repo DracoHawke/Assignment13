{
 "cells": [
  {
   "cell_type": "code",
   "execution_count": 1,
   "metadata": {},
   "outputs": [
    {
     "name": "stdout",
     "output_type": "stream",
     "text": [
      "The Random Quote for you is: Learning is finding out what you already know.   \n",
      "The Author of the Quote is: Richard Bach \n"
     ]
    }
   ],
   "source": [
    "import requests\n",
    "import json\n",
    "\n",
    "# Question 1\n",
    "# Use the \"https://api.forismatic.com/api/1.0/\" api to get random quotes using the correct endpoints.\n",
    "\n",
    "parameters = {'method': 'getQuote', 'format': 'json', 'lang': \"en\", 'key': ''}\n",
    "response = requests.get(\"https://api.forismatic.com/api/1.0/getQuote.json\", params=parameters)\n",
    "res = response.json()\n",
    "print(\"The Random Quote for you is: {} \\nThe Author of the Quote is: {}\".format(res['quoteText'], res['quoteAuthor']))\n"
   ]
  },
  {
   "cell_type": "code",
   "execution_count": null,
   "metadata": {},
   "outputs": [],
   "source": []
  }
 ],
 "metadata": {
  "kernelspec": {
   "display_name": "Python 3",
   "language": "python",
   "name": "python3"
  },
  "language_info": {
   "codemirror_mode": {
    "name": "ipython",
    "version": 3
   },
   "file_extension": ".py",
   "mimetype": "text/x-python",
   "name": "python",
   "nbconvert_exporter": "python",
   "pygments_lexer": "ipython3",
   "version": "3.6.4"
  }
 },
 "nbformat": 4,
 "nbformat_minor": 2
}
